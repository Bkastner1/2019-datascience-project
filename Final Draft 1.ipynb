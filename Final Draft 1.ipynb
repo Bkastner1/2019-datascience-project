{
 "cells": [
  {
   "cell_type": "markdown",
   "metadata": {},
   "source": [
    "# Predicting Loan Defaults\n",
    "\n",
    "### Names:\n",
    "Hayden Strikwerda, Bryce Kastner, and Hannah George\n",
    "\n",
    "### Project Purpose\n",
    "\n",
    "Our project is to predict loan defaults using machine learning. Through this project we hope to gain a clearer understanding of what factors most strongly influence whether a loan is approved or not and to use this information to create a machine learning algorithm which predicts whether a loan would be approved or not.\n",
    "\n",
    "In order to do so we first found our dataset (located at http://weka.8497.n7.nabble.com/file/n23121/credit_fruad.arff) and cleaned it, turning each of the columns into numerical data. We saved the cleaned data into a .csv file for ease of use. \n",
    "\n",
    "After reloading the .csv file, we create bar graphs to visualize the relationship between each of the discrete variables and the class of the loan (approved or denied). Since the ordering of the catagories is largely irrelevant in most cases, we decided to go through each of them and decide which order best benefits our machine learning algorithms. There are some discrete variables in our dataset whose relationship of the catagories do matter, like checking_balance, saving_balance, and credit_history. We do not reorder those.\n",
    "\n"
   ]
  },
  {
   "cell_type": "markdown",
   "metadata": {},
   "source": [
    "## Imports"
   ]
  },
  {
   "cell_type": "code",
   "execution_count": 10,
   "metadata": {},
   "outputs": [],
   "source": [
    "from scipy.io import arff\n",
    "import pandas as pd\n",
    "import numpy as np\n",
    "\n",
    "from sklearn import tree, svm, metrics\n",
    "from sklearn.linear_model import Perceptron\n",
    "from sklearn.neighbors import KNeighborsClassifier\n",
    "from sklearn.model_selection import train_test_split, cross_val_score\n",
    "from sklearn.preprocessing import StandardScaler\n",
    "from sklearn.ensemble import RandomForestClassifier\n",
    "\n",
    "import matplotlib.pyplot as plt\n",
    "%matplotlib inline\n",
    "plt.rcParams['figure.figsize'] = (10, 6)\n",
    "plt.style.use('ggplot')"
   ]
  },
  {
   "cell_type": "markdown",
   "metadata": {},
   "source": [
    "## Loading the Data"
   ]
  },
  {
   "cell_type": "code",
   "execution_count": 126,
   "metadata": {},
   "outputs": [],
   "source": [
    "data = pd.DataFrame(arff.loadarff('german_credit_fruad.arff.txt')[0])"
   ]
  },
  {
   "cell_type": "markdown",
   "metadata": {},
   "source": [
    "## Cleaning the Data\n",
    "\n",
    "The following code is for cleaning the data. First we deleted some of the columns that felt unnessary, and rename others. Then we go through and change the type of the data from bytes to string. Then, in order to make the data easier to work with, we changed the data type from strings to integers. We provide a key for the numerical values at the top of the code.  At the end, we saved our dataframe with the cleaned data into a csv file to save time. "
   ]
  },
  {
   "cell_type": "code",
   "execution_count": 127,
   "metadata": {},
   "outputs": [],
   "source": [
    "del data['employment']\n",
    "del data['other_parties']\n",
    "del data['property_magnitude']\n",
    "del data['other_payment_plans']\n",
    "del data['own_telephone']\n",
    "del data['location']\n",
    "del data['num_dependents']\n",
    "del data['residence_since']\n",
    "\n",
    "data.rename(columns={'over_draft':'checking_balance', \n",
    "                     'Average_Credit_Balance': 'savings_balance', \n",
    "                     'cc_age':'age'}, \n",
    "            inplace=True)"
   ]
  },
  {
   "cell_type": "markdown",
   "metadata": {},
   "source": [
    "Here is the key for reference:"
   ]
  },
  {
   "cell_type": "code",
   "execution_count": null,
   "metadata": {},
   "outputs": [],
   "source": [
    "'''\n",
    "Attributes  age, credit_usage, current_balance, and existing_credits do not require a value key.\n",
    "\n",
    " Value Key for attribute checking_balance\n",
    "    \n",
    "    0     Represents: None        \n",
    "    1     Represents: Less than 0                          \n",
    "    2     Represents: In between 0 and 200                      \n",
    "    3     Represents: Greater than 200  \n",
    "    \n",
    " Value Key for attribute class\n",
    "    0     Represents: Denied                                          \n",
    "    1     Represents: Approved  \n",
    "\n",
    " Value Key for attribute credit_history\n",
    "    0     Represents: None          \n",
    "    1     Represents: Bad                                  \n",
    "    2     Represents: Fair                        \n",
    "    3     Represents: Good              \n",
    "    4     Represents: Great\n",
    "    \n",
    " Value Key for attribute foreign_worker\n",
    "    0     Represents: No                                            \n",
    "    1     Represents: Yes  \n",
    "    \n",
    " Value Key for attribute gender\n",
    "    0     Represents: Male\n",
    "    1     Represents: Female\n",
    "    \n",
    " Value Key for attribute housing\n",
    "    0     Represents: Rent                                          \n",
    "    1     Represents: Own                                           \n",
    "    2     Represents: For Free\n",
    "    \n",
    "Value Key for attribute job\n",
    "    0     Represents: Unemployed\n",
    "    1     Represents: Unskilled\n",
    "    2     Represents: Skilled\n",
    "    3     Represents: Highly Skilled  \n",
    "    \n",
    " Value Key for attribute purpose\n",
    "    0     Represents: New Car\n",
    "    1     Represents: Used Car\n",
    "    2     Represents: Furniture/Equipment\n",
    "    3     Represents: Radio/TV\n",
    "    4     Represents: Domestic Appliance\n",
    "    5     Represents: Repairs\n",
    "    6     Represents: Education\n",
    "    7     Represents: Vacation\n",
    "    8     Represents: Retraining\n",
    "    9     Represents: Business\n",
    "    10    Represents: Other                                      \n",
    "\n",
    " Value Key for attribute savings_balance\n",
    "    0     Represents: None                            \n",
    "    1     Represents: Less than 100                              \n",
    "    2     Represents: Inbetween 100 and 500                      \n",
    "    3     Represents: Inbetween 500 and 1000                               \n",
    "    4     Represents: Greater than 1000                          \n",
    "\n",
    "                       \n",
    "'''             "
   ]
  },
  {
   "cell_type": "markdown",
   "metadata": {},
   "source": [
    "This next bit of code is for changing the type of some of the columns from byte to string."
   ]
  },
  {
   "cell_type": "code",
   "execution_count": 128,
   "metadata": {},
   "outputs": [],
   "source": [
    "for column in data.columns:\n",
    "    i = 0\n",
    "    for item in data[column]:\n",
    "        if isinstance(item, bytes) == True:\n",
    "                fixed = item.decode(\"utf-8\")\n",
    "                fixed = fixed.replace(\"'\",\"\")\n",
    "                data.loc[i, column] = str(fixed)\n",
    "                item = str(fixed)\n",
    "        i += 1"
   ]
  },
  {
   "cell_type": "markdown",
   "metadata": {},
   "source": [
    "Next, we want to change the data into a more workable type so we convert some of the columns from a string to an integer. "
   ]
  },
  {
   "cell_type": "code",
   "execution_count": 129,
   "metadata": {},
   "outputs": [],
   "source": [
    "gender = []\n",
    "\n",
    "for column in data.columns:\n",
    "    \n",
    "    relabeled = []\n",
    "    \n",
    "    for item in data[column]:\n",
    "        if column == 'checking_balance':\n",
    "            if item == 'no checking':\n",
    "                relabeled.append(0)\n",
    "            elif item == '<0':\n",
    "                relabeled.append(1)\n",
    "            elif item == '0<=X<200':\n",
    "                relabeled.append(2)\n",
    "            elif item == '>=200':\n",
    "                relabeled.append(3)\n",
    "        elif column == 'credit_history':\n",
    "            if item == 'no credits/all paid':\n",
    "                relabeled.append(0)\n",
    "            elif item == 'all paid':\n",
    "                relabeled.append(1)\n",
    "            elif item == 'existing paid':\n",
    "                relabeled.append(2)\n",
    "            elif item == 'delayed previously':\n",
    "                relabeled.append(3)\n",
    "            elif item == 'critical/other existing credit':\n",
    "                relabeled.append(4)\n",
    "        elif column == 'purpose':\n",
    "            if item == 'new car':\n",
    "                relabeled.append(0)\n",
    "            elif item == 'used car':\n",
    "                relabeled.append(1)\n",
    "            elif item == 'furniture/equipment':\n",
    "                relabeled.append(2)\n",
    "            elif item == 'radio/tv':\n",
    "                relabeled.append(3)\n",
    "            elif item == 'domestic appliance':\n",
    "                relabeled.append(4)\n",
    "            elif item == 'repairs':\n",
    "                relabeled.append(5)\n",
    "            elif item == 'education':\n",
    "                relabeled.append(6)\n",
    "            elif item == 'vacation':\n",
    "                relabeled.append(7)\n",
    "            elif item == 'retraining':\n",
    "                relabeled.append(8)\n",
    "            elif item == 'business':\n",
    "                relabeled.append(9)\n",
    "            elif item == 'other':\n",
    "                relabeled.append(10)\n",
    "        elif column == 'savings_balance':\n",
    "            if item == 'no known savings':\n",
    "                relabeled.append(0)\n",
    "            elif item == '<100':\n",
    "                relabeled.append(1)\n",
    "            elif item == '100<=X<500':\n",
    "                relabeled.append(2)\n",
    "            elif item == '500<=X<1000':\n",
    "                relabeled.append(3)\n",
    "            elif item == '>=1000':\n",
    "                relabeled.append(4) \n",
    "        elif column == 'personal_status':\n",
    "            if item == 'male single':\n",
    "                relabeled.append(0)\n",
    "                gender.append(0)\n",
    "            elif item == 'male mar/wid':\n",
    "                relabeled.append(1)\n",
    "                gender.append(0)\n",
    "            elif item == 'male div/sep':\n",
    "                relabeled.append(2)\n",
    "                gender.append(0)\n",
    "            elif item == 'female single':\n",
    "                relabeled.append(3)\n",
    "                gender.append(1)\n",
    "            elif item == 'female div/dep/mar':\n",
    "                relabeled.append(4)\n",
    "                gender.append(1)\n",
    "        elif column == 'housing':\n",
    "            if item == 'rent':\n",
    "                relabeled.append(0)\n",
    "            elif item == 'own':\n",
    "                relabeled.append(1)\n",
    "            elif item == 'for free':\n",
    "                relabeled.append(2)\n",
    "        elif column == 'job':\n",
    "            if item == 'unemp/unskilled non res':\n",
    "                relabeled.append(0)\n",
    "            elif item == 'unskilled resident':\n",
    "                relabeled.append(1)\n",
    "            elif item == 'skilled':\n",
    "                relabeled.append(2)\n",
    "            elif item == 'high qualif/self emp/mgmt':\n",
    "                relabeled.append(3)\n",
    "        elif column == 'foreign_worker':\n",
    "            if item == 'no':\n",
    "                relabeled.append(0)\n",
    "            elif item == 'yes':\n",
    "                relabeled.append(1)\n",
    "        elif column == 'class':\n",
    "            if item == 'bad':\n",
    "                relabeled.append(0)\n",
    "            elif item == 'good':\n",
    "                relabeled.append(1)\n",
    "            \n",
    "    if len(relabeled) != 0:\n",
    "        data[column] = relabeled          \n",
    "\n",
    "data['gender'] = gender\n",
    "del data['personal_status']"
   ]
  },
  {
   "cell_type": "markdown",
   "metadata": {},
   "source": [
    "Now we save the data into a .csv file."
   ]
  },
  {
   "cell_type": "code",
   "execution_count": 130,
   "metadata": {},
   "outputs": [],
   "source": [
    "data.to_csv('cleanedData.csv')"
   ]
  },
  {
   "cell_type": "markdown",
   "metadata": {},
   "source": [
    "## Loading the Data From the New .csv File"
   ]
  },
  {
   "cell_type": "code",
   "execution_count": 131,
   "metadata": {},
   "outputs": [
    {
     "data": {
      "text/html": [
       "<div>\n",
       "<style scoped>\n",
       "    .dataframe tbody tr th:only-of-type {\n",
       "        vertical-align: middle;\n",
       "    }\n",
       "\n",
       "    .dataframe tbody tr th {\n",
       "        vertical-align: top;\n",
       "    }\n",
       "\n",
       "    .dataframe thead th {\n",
       "        text-align: right;\n",
       "    }\n",
       "</style>\n",
       "<table border=\"1\" class=\"dataframe\">\n",
       "  <thead>\n",
       "    <tr style=\"text-align: right;\">\n",
       "      <th></th>\n",
       "      <th>age</th>\n",
       "      <th>checking_balance</th>\n",
       "      <th>class</th>\n",
       "      <th>credit_history</th>\n",
       "      <th>credit_usage</th>\n",
       "      <th>current_balance</th>\n",
       "      <th>existing_credits</th>\n",
       "      <th>foreign_worker</th>\n",
       "      <th>gender</th>\n",
       "      <th>housing</th>\n",
       "      <th>job</th>\n",
       "      <th>purpose</th>\n",
       "      <th>savings_balance</th>\n",
       "    </tr>\n",
       "  </thead>\n",
       "  <tbody>\n",
       "    <tr>\n",
       "      <th>0</th>\n",
       "      <td>67.0</td>\n",
       "      <td>1</td>\n",
       "      <td>1</td>\n",
       "      <td>4</td>\n",
       "      <td>6.0</td>\n",
       "      <td>1169.0</td>\n",
       "      <td>2.0</td>\n",
       "      <td>1</td>\n",
       "      <td>0</td>\n",
       "      <td>1</td>\n",
       "      <td>2</td>\n",
       "      <td>3</td>\n",
       "      <td>0</td>\n",
       "    </tr>\n",
       "    <tr>\n",
       "      <th>1</th>\n",
       "      <td>22.0</td>\n",
       "      <td>2</td>\n",
       "      <td>0</td>\n",
       "      <td>2</td>\n",
       "      <td>48.0</td>\n",
       "      <td>5951.0</td>\n",
       "      <td>1.0</td>\n",
       "      <td>1</td>\n",
       "      <td>1</td>\n",
       "      <td>1</td>\n",
       "      <td>2</td>\n",
       "      <td>3</td>\n",
       "      <td>1</td>\n",
       "    </tr>\n",
       "    <tr>\n",
       "      <th>2</th>\n",
       "      <td>49.0</td>\n",
       "      <td>0</td>\n",
       "      <td>1</td>\n",
       "      <td>4</td>\n",
       "      <td>12.0</td>\n",
       "      <td>2096.0</td>\n",
       "      <td>1.0</td>\n",
       "      <td>1</td>\n",
       "      <td>0</td>\n",
       "      <td>1</td>\n",
       "      <td>1</td>\n",
       "      <td>6</td>\n",
       "      <td>1</td>\n",
       "    </tr>\n",
       "    <tr>\n",
       "      <th>3</th>\n",
       "      <td>45.0</td>\n",
       "      <td>1</td>\n",
       "      <td>1</td>\n",
       "      <td>2</td>\n",
       "      <td>42.0</td>\n",
       "      <td>7882.0</td>\n",
       "      <td>1.0</td>\n",
       "      <td>1</td>\n",
       "      <td>0</td>\n",
       "      <td>2</td>\n",
       "      <td>2</td>\n",
       "      <td>2</td>\n",
       "      <td>1</td>\n",
       "    </tr>\n",
       "    <tr>\n",
       "      <th>4</th>\n",
       "      <td>53.0</td>\n",
       "      <td>1</td>\n",
       "      <td>0</td>\n",
       "      <td>3</td>\n",
       "      <td>24.0</td>\n",
       "      <td>4870.0</td>\n",
       "      <td>2.0</td>\n",
       "      <td>1</td>\n",
       "      <td>0</td>\n",
       "      <td>2</td>\n",
       "      <td>2</td>\n",
       "      <td>0</td>\n",
       "      <td>1</td>\n",
       "    </tr>\n",
       "  </tbody>\n",
       "</table>\n",
       "</div>"
      ],
      "text/plain": [
       "    age  checking_balance  class  credit_history  credit_usage  \\\n",
       "0  67.0                 1      1               4           6.0   \n",
       "1  22.0                 2      0               2          48.0   \n",
       "2  49.0                 0      1               4          12.0   \n",
       "3  45.0                 1      1               2          42.0   \n",
       "4  53.0                 1      0               3          24.0   \n",
       "\n",
       "   current_balance  existing_credits  foreign_worker  gender  housing  job  \\\n",
       "0           1169.0               2.0               1       0        1    2   \n",
       "1           5951.0               1.0               1       1        1    2   \n",
       "2           2096.0               1.0               1       0        1    1   \n",
       "3           7882.0               1.0               1       0        2    2   \n",
       "4           4870.0               2.0               1       0        2    2   \n",
       "\n",
       "   purpose  savings_balance  \n",
       "0        3                0  \n",
       "1        3                1  \n",
       "2        6                1  \n",
       "3        2                1  \n",
       "4        0                1  "
      ]
     },
     "execution_count": 131,
     "metadata": {},
     "output_type": "execute_result"
    }
   ],
   "source": [
    "data = pd.read_csv('cleanedData.csv')\n",
    "data = data.drop('Unnamed: 0', axis=1)\n",
    "data = data.reindex(sorted(data.columns), axis=1)\n",
    "data.head()"
   ]
  },
  {
   "cell_type": "markdown",
   "metadata": {},
   "source": [
    "## Visualizing the Data"
   ]
  },
  {
   "cell_type": "markdown",
   "metadata": {},
   "source": [
    "The purpose of our bar graphs is to visualize the relationship between each of the discrete variables and the class. Since the ordering of the catagories is largely irrelevant in most cases, we decided to go through each of them and decide which order best benefits our machine learning algorithms.\n",
    "\n",
    "We go through each discrete variable and compute the percentage of approved/denied for each catagory of that transaction and see how much that variable effects the approval rate. Then we reorder the catagories of that variable so that it becomes more strongly positively corrolated with the class. \n",
    "\n",
    "There are some discrete variables in our dataset whose relationship of the catagories do matter, like checking_balance, saving_balance, and credit_history. We do not reorder those. "
   ]
  },
  {
   "cell_type": "markdown",
   "metadata": {},
   "source": [
    "### Foreign Worker"
   ]
  },
  {
   "cell_type": "markdown",
   "metadata": {},
   "source": [
    "Next, we will look at the relationship between the foreign_worker variable and class."
   ]
  },
  {
   "cell_type": "code",
   "execution_count": 132,
   "metadata": {},
   "outputs": [
    {
     "data": {
      "image/png": "[encoded data removed]",
      "text/plain": [
       "<Figure size 700x500 with 1 Axes>"
      ]
     },
     "metadata": {},
     "output_type": "display_data"
    },
    {
     "name": "stdout",
     "output_type": "stream",
     "text": [
      "\n"
     ]
    }
   ],
   "source": [
    "yes = data[data['foreign_worker'] == 1]\n",
    "no = data[data['foreign_worker'] == 0]\n",
    "\n",
    "yes_percentages = yes['class'].value_counts() / len(yes)\n",
    "no_percentages = no['class'].value_counts() / len(no)\n",
    "\n",
    "fw_approved = [yes_percentages[1], no_percentages[1]]\n",
    "fw_denied = [yes_percentages[0], no_percentages[0]]\n",
    "\n",
    "# data to plot\n",
    "n_groups = 2\n",
    " \n",
    "# create plot\n",
    "fig, ax = plt.subplots(figsize=(7,5))\n",
    "index = np.arange(n_groups)\n",
    "bar_width = 0.4\n",
    "opacity = 0.8\n",
    " \n",
    "rects1 = plt.bar(index, fw_approved, bar_width,\n",
    "alpha=opacity,\n",
    "color='g',\n",
    "label='Approved')\n",
    " \n",
    "rects2 = plt.bar(index + bar_width, fw_denied, bar_width,\n",
    "alpha=opacity,\n",
    "color='r',\n",
    "label='Denied')\n",
    " \n",
    "plt.xlabel('Foreign Worker')\n",
    "plt.ylabel('Percentage')\n",
    "plt.title('Percentage Approved by Worker Status')\n",
    "plt.xticks(index + bar_width, ('Yes','No'))\n",
    "plt.legend()\n",
    "\n",
    "plt.show()\n",
    "print('')"
   ]
  },
  {
   "cell_type": "markdown",
   "metadata": {},
   "source": [
    "The difference between the approval rate of foreign workers is likely to be caused by the fact that only 3.7% of the loans are by foreign workers, whereas 96.3% are not. However, we will still reorder our catagories so that it has a better correlation with the class.\n",
    "\n",
    "The value key for attribute foreign_worker goes from:\n",
    "\n",
    "    0     Represents: Yes\n",
    "    1     Represents: No\n",
    "\n",
    "To:\n",
    "\n",
    "    0     Represents: No                                            \n",
    "    1     Represents: Yes  "
   ]
  },
  {
   "cell_type": "code",
   "execution_count": 133,
   "metadata": {},
   "outputs": [],
   "source": [
    "relabeled = []\n",
    "\n",
    "for item in data['foreign_worker']:  \n",
    "    if item == 0:\n",
    "        relabeled.append(1)\n",
    "    elif item == 1:\n",
    "        relabeled.append(0)\n",
    "        \n",
    "data['foreign_worker'] = relabeled"
   ]
  },
  {
   "cell_type": "markdown",
   "metadata": {},
   "source": [
    "### Gender"
   ]
  },
  {
   "cell_type": "markdown",
   "metadata": {},
   "source": [
    "Next, we will look at how the attribute gender affects the class."
   ]
  },
  {
   "cell_type": "code",
   "execution_count": 134,
   "metadata": {},
   "outputs": [
    {
     "data": {
      "image/png": "[encoded data removed]",
      "text/plain": [
       "<Figure size 700x500 with 1 Axes>"
      ]
     },
     "metadata": {},
     "output_type": "display_data"
    },
    {
     "name": "stdout",
     "output_type": "stream",
     "text": [
      "\n"
     ]
    }
   ],
   "source": [
    "male = data[data['gender'] == 0]\n",
    "female = data[data['gender'] == 1]\n",
    "\n",
    "male_percentages = male['class'].value_counts() / len(male)\n",
    "female_percentages = female['class'].value_counts() / len(female)\n",
    "\n",
    "gender_approved = [male_percentages[1], female_percentages[1]]\n",
    "gender_denied = [male_percentages[0], female_percentages[0]]\n",
    "\n",
    "# data to plot\n",
    "n_groups = 2\n",
    " \n",
    "# create plot\n",
    "fig, ax = plt.subplots(figsize=(7,5))\n",
    "index = np.arange(n_groups)\n",
    "bar_width = 0.4\n",
    "opacity = 0.8\n",
    " \n",
    "rects1 = plt.bar(index, gender_approved, bar_width,\n",
    "alpha=opacity,\n",
    "color='g',\n",
    "label='Approved')\n",
    " \n",
    "rects2 = plt.bar(index + bar_width, gender_denied, bar_width,\n",
    "alpha=opacity,\n",
    "color='r',\n",
    "label='Denied')\n",
    " \n",
    "plt.xlabel('Gender')\n",
    "plt.ylabel('Percentage')\n",
    "plt.title('Percentage Approved by Gender')\n",
    "plt.xticks(index + bar_width, ('Male','Female'))\n",
    "plt.legend()\n",
    "\n",
    "plt.show()\n",
    "print('')"
   ]
  },
  {
   "cell_type": "markdown",
   "metadata": {},
   "source": [
    "Gender doesn't appear to have a huge influence on the class of the loan, however, males have a slightly higher percentage of approved loans than females. We will reorder our catagories to reflect this. \n",
    "\n",
    "The value key for attribute gender goes from:\n",
    "\n",
    "    0     Represents: Male\n",
    "    1     Represents: Female\n",
    "    \n",
    "To:\n",
    "\n",
    "    0     Represents: Female\n",
    "    1     Represents: Male"
   ]
  },
  {
   "cell_type": "code",
   "execution_count": 135,
   "metadata": {},
   "outputs": [],
   "source": [
    "relabeled = []\n",
    "\n",
    "for item in data['gender']:  \n",
    "    if item == 0:\n",
    "        relabeled.append(1)\n",
    "    elif item == 1:\n",
    "        relabeled.append(0)\n",
    "        \n",
    "data['gender'] = relabeled"
   ]
  },
  {
   "cell_type": "markdown",
   "metadata": {},
   "source": [
    "### Housing"
   ]
  },
  {
   "cell_type": "markdown",
   "metadata": {},
   "source": [
    "First, we will look at the housing variable and see how it affects the class."
   ]
  },
  {
   "cell_type": "code",
   "execution_count": 137,
   "metadata": {},
   "outputs": [
    {
     "data": {
      "image/png": "[encoded data removed]",
      "text/plain": [
       "<Figure size 700x500 with 1 Axes>"
      ]
     },
     "metadata": {},
     "output_type": "display_data"
    },
    {
     "name": "stdout",
     "output_type": "stream",
     "text": [
      "\n"
     ]
    }
   ],
   "source": [
    "rent = data[data['housing'] == 0]\n",
    "own = data[data['housing'] == 1]\n",
    "free = data[data['housing'] == 2]\n",
    "\n",
    "rent_percentages = rent['class'].value_counts() / len(rent)\n",
    "own_percentages = own['class'].value_counts() / len(own)\n",
    "free_percentages = free['class'].value_counts() / len(free)\n",
    "\n",
    "housing_approved = [free_percentages[1],rent_percentages[1], own_percentages[1]]\n",
    "housing_denied = [free_percentages[0], rent_percentages[0], own_percentages[0]]\n",
    "\n",
    "# data to plot\n",
    "n_groups = 3\n",
    " \n",
    "# create plot\n",
    "fig, ax = plt.subplots(figsize=(7,5))\n",
    "index = np.arange(n_groups)\n",
    "bar_width = 0.4\n",
    "opacity = 0.8\n",
    " \n",
    "rects1 = plt.bar(index, housing_approved, bar_width,\n",
    "alpha=opacity,\n",
    "color='g',\n",
    "label='Approved')\n",
    " \n",
    "rects2 = plt.bar(index + bar_width, housing_denied, bar_width,\n",
    "alpha=opacity,\n",
    "color='r',\n",
    "label='Denied')\n",
    " \n",
    "plt.xlabel('Type of Housing')\n",
    "plt.ylabel('Percentage')\n",
    "plt.title('Percentage Approved by Housing')\n",
    "plt.xticks(index + bar_width, ('Free','Rent','Own'))\n",
    "plt.legend()\n",
    "\n",
    "plt.show()\n",
    "\n",
    "print('')"
   ]
  },
  {
   "cell_type": "markdown",
   "metadata": {},
   "source": [
    "From the bar chart, we can tell that a transaction is more likely to be approved if the person currently own's their home versus renting or living for free. We choose to reorder our variables so that we have a better corrolation with class.\n",
    "\n",
    "The value key for attribute housing goes from:\n",
    "\n",
    "    0     Represents: Rent                                         \n",
    "    1     Represents: Own                                           \n",
    "    2     Represents: For Free \n",
    "\n",
    "to:\n",
    "    \n",
    "    0     Represents: For Free\n",
    "    1     Represents: Rent\n",
    "    2     Represents: Own"
   ]
  },
  {
   "cell_type": "code",
   "execution_count": 138,
   "metadata": {},
   "outputs": [],
   "source": [
    "relabeled = []\n",
    "\n",
    "for item in data['housing']:  \n",
    "    if item == 0:\n",
    "        relabeled.append(1)\n",
    "    elif item == 1:\n",
    "        relabeled.append(2)\n",
    "    elif item == 2:\n",
    "        relabeled.append(3)\n",
    "        \n",
    "data['housing'] = relabeled"
   ]
  },
  {
   "cell_type": "markdown",
   "metadata": {},
   "source": [
    "### Job"
   ]
  },
  {
   "cell_type": "markdown",
   "metadata": {},
   "source": [
    "Next, we will look at the job variable and see how it impacts the class."
   ]
  },
  {
   "cell_type": "code",
   "execution_count": 139,
   "metadata": {},
   "outputs": [
    {
     "data": {
      "image/png": "[encoded data removed]",
      "text/plain": [
       "<Figure size 700x500 with 1 Axes>"
      ]
     },
     "metadata": {},
     "output_type": "display_data"
    },
    {
     "name": "stdout",
     "output_type": "stream",
     "text": [
      "\n"
     ]
    }
   ],
   "source": [
    "unemployed = data[data['job'] == 0]\n",
    "unskilled = data[data['job'] == 1]\n",
    "skilled = data[data['job'] == 2]\n",
    "highly_skilled = data[data['job'] == 3]\n",
    "\n",
    "unemployed_percentages = unemployed['class'].value_counts() / len(unemployed)\n",
    "unskilled_percentages = unskilled['class'].value_counts() / len(unskilled)\n",
    "skilled_percentages = skilled['class'].value_counts() / len(skilled)\n",
    "highly_skilled_percentages = highly_skilled['class'].value_counts() / len(highly_skilled)\n",
    "\n",
    "job_approved = [unemployed_percentages[1], unskilled_percentages[1], skilled_percentages[1], highly_skilled_percentages[1]]\n",
    "job_denied = [unemployed_percentages[0], unskilled_percentages[0], skilled_percentages[0], highly_skilled_percentages[0]]\n",
    "\n",
    "# data to plot\n",
    "n_groups = 4\n",
    " \n",
    "# create plot\n",
    "fig, ax = plt.subplots(figsize=(7,5))\n",
    "index = np.arange(n_groups)\n",
    "bar_width = 0.4\n",
    "opacity = 0.8\n",
    " \n",
    "rects1 = plt.bar(index, job_approved, bar_width,\n",
    "alpha=opacity,\n",
    "color='g',\n",
    "label='Approved')\n",
    " \n",
    "rects2 = plt.bar(index + bar_width, job_denied, bar_width,\n",
    "alpha=opacity,\n",
    "color='r',\n",
    "label='Denied')\n",
    " \n",
    "plt.xlabel('Type of Job')\n",
    "plt.ylabel('Percentage')\n",
    "plt.title('Percentage Approved by Job')\n",
    "plt.xticks(index + bar_width, ('Unemployed','Unskilled', 'Skilled','Highly Skilled'))\n",
    "plt.legend()\n",
    "\n",
    "plt.show()\n",
    "\n",
    "print('')"
   ]
  },
  {
   "cell_type": "markdown",
   "metadata": {},
   "source": [
    "From the data, it appears that the most likely job to be approved for a loan is 'Unskilled' and the least likely is 'Highly Skilled' (Note: the 'Highly Skilled' being the lowest does seem odd, but it does include business owners as well which might be skewing the data). We reordered the data so that it has a more positive corrolation with class.\n",
    "\n",
    "The value key for attribute job goes from:\n",
    "\n",
    "    0     Represents: Unemployed       \n",
    "    1     Represents: Unskilled             \n",
    "    2     Represents: Skilled                                    \n",
    "    3     Represents: Highly Skilled\n",
    "\n",
    "To:\n",
    "\n",
    "    0     Represents: Highly Skilled\n",
    "    1     Represents: Unemployed\n",
    "    2     Represents: Skilled\n",
    "    3     Represents: Unskilled\n",
    " \n"
   ]
  },
  {
   "cell_type": "code",
   "execution_count": 140,
   "metadata": {},
   "outputs": [],
   "source": [
    "relabeled = []\n",
    "\n",
    "for item in data['job']:  \n",
    "    if item == 0:\n",
    "        relabeled.append(1)\n",
    "    elif item == 1:\n",
    "        relabeled.append(3)\n",
    "    elif item == 2:\n",
    "        relabeled.append(2)\n",
    "    elif item == 3:\n",
    "        relabeled.append(0)\n",
    "        \n",
    "data['job'] = relabeled"
   ]
  },
  {
   "cell_type": "markdown",
   "metadata": {},
   "source": [
    "### Purpose"
   ]
  },
  {
   "cell_type": "markdown",
   "metadata": {},
   "source": [
    "Next, we will look at how purpose affects class."
   ]
  },
  {
   "cell_type": "code",
   "execution_count": 141,
   "metadata": {},
   "outputs": [
    {
     "data": {
      "image/png": "[encoded data removed]",
      "text/plain": [
       "<Figure size 1500x500 with 1 Axes>"
      ]
     },
     "metadata": {},
     "output_type": "display_data"
    },
    {
     "name": "stdout",
     "output_type": "stream",
     "text": [
      "\n"
     ]
    }
   ],
   "source": [
    "ncar = data[data['purpose'] == 0]\n",
    "ucar = data[data['purpose'] == 1]\n",
    "furn = data[data['purpose'] == 2]\n",
    "rdtv = data[data['purpose'] == 3]\n",
    "domapp = data[data['purpose'] == 4]\n",
    "repair = data[data['purpose'] == 5]\n",
    "education= data[data['purpose'] == 6]\n",
    "retrain = data[data['purpose'] == 8]\n",
    "business = data[data['purpose'] == 9]\n",
    "other = data[data['purpose'] == 10]\n",
    "\n",
    "ncar_percentages = ncar['class'].value_counts() / len(ncar)\n",
    "ucar_percentages = ucar['class'].value_counts() / len(ucar)\n",
    "furn_percentages = furn['class'].value_counts() / len(furn)\n",
    "rdtv_percentages = rdtv['class'].value_counts() / len(rdtv)\n",
    "domapp_percentages = domapp['class'].value_counts() / len(domapp)\n",
    "repair_percentages = repair['class'].value_counts() / len(repair)\n",
    "education_percentages = education['class'].value_counts() / len(education)\n",
    "retrain_percentages = retrain['class'].value_counts() / len(retrain)\n",
    "business_percentages = business['class'].value_counts() / len(business)\n",
    "other_percentages = other['class'].value_counts() / len(other)\n",
    "\n",
    "purpose_approved = [ncar_percentages[1], ucar_percentages[1], furn_percentages[1], \n",
    "                    rdtv_percentages[1], domapp_percentages[1], repair_percentages[1],\n",
    "                    education_percentages[1], retrain_percentages[1], business_percentages[1],\n",
    "                    other_percentages[1]]\n",
    "purpose_denied = [ncar_percentages[0], ucar_percentages[0], furn_percentages[0], \n",
    "                  rdtv_percentages[0], domapp_percentages[0], repair_percentages[0],\n",
    "                  education_percentages[0], retrain_percentages[0], business_percentages[0],\n",
    "                  other_percentages[0]]\n",
    "\n",
    "# data to plot\n",
    "n_groups = 10\n",
    " \n",
    "# create plot\n",
    "fig, ax = plt.subplots(figsize=(15,5))\n",
    "index = np.arange(n_groups)\n",
    "bar_width = 0.4\n",
    "opacity = 0.8\n",
    " \n",
    "rects1 = plt.bar(index, purpose_approved, bar_width,\n",
    "alpha=opacity,\n",
    "color='g',\n",
    "label='Approved')\n",
    " \n",
    "rects2 = plt.bar(index + bar_width, purpose_denied, bar_width,\n",
    "alpha=opacity,\n",
    "color='r',\n",
    "label='Denied')\n",
    " \n",
    "plt.xlabel('Purpose')\n",
    "plt.ylabel('Percentage')\n",
    "plt.title('Percentage Approved by Purpose')\n",
    "plt.xticks(index + bar_width, ( 'New Car', 'Used Car','Furniture/Equipment', 'Radio/TV',\n",
    "                                'Domestic Appliance',  'Repairs', 'Education', 'Retraining',\n",
    "                               'Business', 'Other'))\n",
    "plt.legend()\n",
    "\n",
    "plt.show()\n",
    "print('')"
   ]
  },
  {
   "cell_type": "markdown",
   "metadata": {},
   "source": [
    "One important thing to note is that the Vacation variable had no loans belonging to it, so we did not include it in the above charts. \n",
    "\n",
    "We can see that the purpose variable seems to have a high variability between each of its catagories, with the highest number of denied going to Education and the lowest going to Retraining. So we reordered the catagories so that it would have a more positive correlation with class.\n",
    "\n",
    "The value key for attribute purpose goes from:\n",
    "\n",
    "    0     Represents: New Car\n",
    "    1     Represents: Used Car\n",
    "    2     Represents: Furniture/Equipment\n",
    "    3     Represents: Radio/TV\n",
    "    4     Represents: Domestic Appliance\n",
    "    5     Represents: Repairs\n",
    "    6     Represents: Education\n",
    "    7     Represents: Vacation\n",
    "    8     Represents: Retraining\n",
    "    9     Represents: Business\n",
    "    10    Represents: Other\n",
    "\n",
    "\n",
    "\n",
    "To:\n",
    "\n",
    "    0     Represents: Vacation                                  \n",
    "    1     Represents: Education                                \n",
    "    2     Represents: Other            \n",
    "    3     Represents: New Car                                 \n",
    "    4     Represents: Repairs            \n",
    "    5     Represents: Business                                     \n",
    "    6     Represents: Domestic Appliance                               \n",
    "    7     Represents: Furniture/Equipment                                  \n",
    "    8     Represents: Radio/TV                               \n",
    "    9     Represents: Used Car                                 \n",
    "    10    Represents: Retraining  "
   ]
  },
  {
   "cell_type": "code",
   "execution_count": 142,
   "metadata": {},
   "outputs": [],
   "source": [
    "relabeled = []\n",
    "\n",
    "for item in data['purpose']:  \n",
    "    if item == 0:\n",
    "        relabeled.append(3)\n",
    "    elif item == 1:\n",
    "        relabeled.append(9)\n",
    "    elif item == 2: \n",
    "        relabeled.append(7)\n",
    "    elif item == 3:\n",
    "        relabeled.append(8)\n",
    "    elif item == 4:\n",
    "        relabeled.append(6)\n",
    "    elif item == 5:\n",
    "        relabeled.append(4)\n",
    "    elif item == 6:\n",
    "        relabeled.append(1)\n",
    "    elif item == 7:\n",
    "        relabeled.append(0)\n",
    "    elif item == 8:\n",
    "        relabeled.append(10)\n",
    "    elif item == 9:\n",
    "        relabeled.append(5)\n",
    "    elif item == 10:\n",
    "        relabeled.append(2)\n",
    "        \n",
    "data['purpose'] = relabeled"
   ]
  },
  {
   "cell_type": "markdown",
   "metadata": {},
   "source": [
    "## Creating the Machine Learning Algorithm"
   ]
  },
  {
   "cell_type": "code",
   "execution_count": 121,
   "metadata": {},
   "outputs": [
    {
     "name": "stderr",
     "output_type": "stream",
     "text": [
      "C:\\Users\\hanma\\Anaconda3\\lib\\site-packages\\pandas\\core\\frame.py:3697: SettingWithCopyWarning: \n",
      "A value is trying to be set on a copy of a slice from a DataFrame\n",
      "\n",
      "See the caveats in the documentation: http://pandas.pydata.org/pandas-docs/stable/indexing.html#indexing-view-versus-copy\n",
      "  errors=errors)\n",
      "C:\\Users\\hanma\\Anaconda3\\lib\\site-packages\\sklearn\\model_selection\\_split.py:2179: FutureWarning: From version 0.21, test_size will always complement train_size unless both are specified.\n",
      "  FutureWarning)\n"
     ]
    }
   ],
   "source": [
    "A = data[data['class'] == 1]\n",
    "a = A['class']\n",
    "A.drop([\"class\"],axis = 1, inplace = True)\n",
    "\n",
    "N = data[data['class'] == 0]\n",
    "n = N['class']\n",
    "N.drop([\"class\"],axis = 1, inplace = True)\n",
    "\n",
    "A_train, A_test, a_train, a_test = train_test_split(A,a,train_size = 0.215)\n",
    "N_train, N_test, n_train, n_test = train_test_split(N,n,train_size = 0.5)\n",
    "\n",
    "X_train = pd.concat([A_train,N_train])\n",
    "X_test = pd.concat([A_test,N_test])\n",
    "y_train = pd.concat([a_train,n_train])\n",
    "y_test = pd.concat([a_test,n_test])\n"
   ]
  },
  {
   "cell_type": "markdown",
   "metadata": {},
   "source": [
    "### Percepitron Algorithm"
   ]
  },
  {
   "cell_type": "markdown",
   "metadata": {},
   "source": [
    "This is our baseline algorithm\n",
    "\n",
    "Since the Perceptron algorithm uses float variable types we will just use certain columns from our dataset."
   ]
  },
  {
   "cell_type": "code",
   "execution_count": 122,
   "metadata": {},
   "outputs": [
    {
     "name": "stdout",
     "output_type": "stream",
     "text": [
      "Accuracy =  0.7857142857142857\n",
      "Confusion Matrix:\n",
      "[[  0 150]\n",
      " [  0 550]]\n"
     ]
    }
   ],
   "source": [
    "# Build a classifier using the training dataset.\n",
    "perceptron = Perceptron(tol = 1e-3, fit_intercept = True, max_iter = 100)\n",
    "perceptron.fit(X_train, y_train)\n",
    "\n",
    "\n",
    "# Compute the accuracy and the confusion matrix of the model using the test dataset. \n",
    "y_pred = perceptron.predict(X_test)\n",
    "print('Accuracy = ', metrics.accuracy_score(y_true = y_test, y_pred = y_pred))\n",
    "\n",
    "print('Confusion Matrix:')\n",
    "print(metrics.confusion_matrix(y_true = y_test, y_pred = y_pred))"
   ]
  },
  {
   "cell_type": "code",
   "execution_count": 125,
   "metadata": {},
   "outputs": [
    {
     "name": "stdout",
     "output_type": "stream",
     "text": [
      "Accuracy =  0.66\n",
      "Confusion Matrix:\n",
      "[[ 69  81]\n",
      " [157 393]]\n"
     ]
    },
    {
     "name": "stderr",
     "output_type": "stream",
     "text": [
      "C:\\Users\\hanma\\Anaconda3\\lib\\site-packages\\sklearn\\preprocessing\\data.py:625: DataConversionWarning: Data with input dtype int64, float64 were all converted to float64 by StandardScaler.\n",
      "  return self.partial_fit(X, y)\n",
      "C:\\Users\\hanma\\Anaconda3\\lib\\site-packages\\ipykernel_launcher.py:5: DataConversionWarning: Data with input dtype int64, float64 were all converted to float64 by StandardScaler.\n",
      "  \"\"\"\n",
      "C:\\Users\\hanma\\Anaconda3\\lib\\site-packages\\ipykernel_launcher.py:6: DataConversionWarning: Data with input dtype int64, float64 were all converted to float64 by StandardScaler.\n",
      "  \n"
     ]
    }
   ],
   "source": [
    "# Scale the dataset \n",
    "\n",
    "sc = StandardScaler()\n",
    "sc.fit(X_train)\n",
    "X_train_std = sc.transform(X_train)\n",
    "X_test_std = sc.transform(X_test)\n",
    "\n",
    "# Build a classifier using the training dataset.\n",
    "perceptron = Perceptron(tol = 1e-3, fit_intercept = True, max_iter = 100)\n",
    "perceptron.fit(X_train_std, y_train)\n",
    "\n",
    "\n",
    "# Compute the accuracy and the confusion matrix of the model using the test dataset. \n",
    "y_pred = perceptron.predict(X_test_std)\n",
    "print('Accuracy = ', metrics.accuracy_score(y_true = y_test, y_pred = y_pred))\n",
    "\n",
    "print('Confusion Matrix:')\n",
    "print(metrics.confusion_matrix(y_true = y_test, y_pred = y_pred))"
   ]
  },
  {
   "cell_type": "code",
   "execution_count": 116,
   "metadata": {},
   "outputs": [
    {
     "name": "stdout",
     "output_type": "stream",
     "text": [
      "Accuracy =  0.6328571428571429\n",
      "Confusion Matrix:\n",
      "[[ 51  99]\n",
      " [158 392]]\n"
     ]
    },
    {
     "name": "stderr",
     "output_type": "stream",
     "text": [
      "C:\\Users\\hanma\\Anaconda3\\lib\\site-packages\\sklearn\\preprocessing\\data.py:625: DataConversionWarning: Data with input dtype int64, float64 were all converted to float64 by StandardScaler.\n",
      "  return self.partial_fit(X, y)\n",
      "C:\\Users\\hanma\\Anaconda3\\lib\\site-packages\\ipykernel_launcher.py:5: DataConversionWarning: Data with input dtype int64, float64 were all converted to float64 by StandardScaler.\n",
      "  \"\"\"\n",
      "C:\\Users\\hanma\\Anaconda3\\lib\\site-packages\\ipykernel_launcher.py:6: DataConversionWarning: Data with input dtype int64, float64 were all converted to float64 by StandardScaler.\n",
      "  \n",
      "C:\\Users\\hanma\\Anaconda3\\lib\\site-packages\\sklearn\\linear_model\\stochastic_gradient.py:152: DeprecationWarning: n_iter parameter is deprecated in 0.19 and will be removed in 0.21. Use max_iter and tol instead.\n",
      "  DeprecationWarning)\n"
     ]
    }
   ],
   "source": [
    "# Scale the dataset \n",
    "\n",
    "sc = StandardScaler()\n",
    "sc.fit(X_train)\n",
    "X_train_std = sc.transform(X_train)\n",
    "X_test_std = sc.transform(X_test)\n",
    "\n",
    "# Build a classifier using the training dataset.\n",
    "perceptron = Perceptron(n_iter=100, eta0=0.1, random_state=0)\n",
    "perceptron.fit(X_train_std, y_train)\n",
    "\n",
    "\n",
    "# Compute the accuracy and the confusion matrix of the model using the test dataset. \n",
    "y_pred = perceptron.predict(X_test_std)\n",
    "print('Accuracy = ', metrics.accuracy_score(y_true = y_test, y_pred = y_pred))\n",
    "\n",
    "print('Confusion Matrix:')\n",
    "print(metrics.confusion_matrix(y_true = y_test, y_pred = y_pred))"
   ]
  },
  {
   "cell_type": "markdown",
   "metadata": {},
   "source": [
    "### SVM Model"
   ]
  },
  {
   "cell_type": "code",
   "execution_count": 47,
   "metadata": {},
   "outputs": [
    {
     "data": {
      "image/png": "[encoded data removed]",
      "text/plain": [
       "<Figure size 432x288 with 1 Axes>"
      ]
     },
     "metadata": {
      "needs_background": "light"
     },
     "output_type": "display_data"
    }
   ],
   "source": [
    "# Finding the best value of C by using cross_val_score and plotting the results.\n",
    "Cs = np.linspace(1,100,20)\n",
    "Accuracies = np.zeros(Cs.shape[0])\n",
    "\n",
    "for i,C in enumerate(Cs):\n",
    "    C_test = svm.SVC(kernel='rbf', C = C, gamma = 'scale')\n",
    "    scores = cross_val_score(estimator = C_test, X = X, y = y, cv=5, scoring='accuracy')\n",
    "    Accuracies[i]  = scores.mean()\n",
    "        \n",
    "plt.plot(Cs,Accuracies)\n",
    "plt.show()"
   ]
  },
  {
   "cell_type": "markdown",
   "metadata": {},
   "source": [
    "From this plot, we can tell the value of C which results in the highest accuracy is 5. "
   ]
  },
  {
   "cell_type": "code",
   "execution_count": 117,
   "metadata": {},
   "outputs": [
    {
     "name": "stdout",
     "output_type": "stream",
     "text": [
      "Accuracy =  0.5471428571428572\n",
      "Confusion Matrix:\n",
      "[[ 70  80]\n",
      " [237 313]]\n"
     ]
    }
   ],
   "source": [
    "# Build a classifier using the training dataset.\n",
    "SVM_model = svm.SVC(kernel='rbf', C = 5, gamma = 'scale')\n",
    "SVM_model.fit(X_train, y_train)\n",
    "\n",
    "\n",
    "# Compute the accuracy and the confusion matrix of the model using the test dataset. \n",
    "y_pred = SVM_model.predict(X_test)\n",
    "print('Accuracy = ', metrics.accuracy_score(y_true = y_test, y_pred = y_pred))\n",
    "\n",
    "print('Confusion Matrix:')\n",
    "print(metrics.confusion_matrix(y_true = y_test, y_pred = y_pred))"
   ]
  },
  {
   "cell_type": "markdown",
   "metadata": {},
   "source": [
    "### Decision Tree"
   ]
  },
  {
   "cell_type": "code",
   "execution_count": 118,
   "metadata": {},
   "outputs": [
    {
     "name": "stdout",
     "output_type": "stream",
     "text": [
      "Accuracy on training data =  1.0\n",
      "Accuracy on test data =  0.61\n"
     ]
    }
   ],
   "source": [
    "decisionTree = tree.DecisionTreeClassifier()\n",
    "\n",
    "# fit the tree with the traing data\n",
    "decisionTree = decisionTree.fit(X_train, y_train)\n",
    "\n",
    "# predict with the training data\n",
    "y_pred_train = decisionTree.predict(X_train)\n",
    "# measure accuracy\n",
    "print('Accuracy on training data = ', metrics.accuracy_score(y_true = y_train, y_pred = y_pred_train))\n",
    "\n",
    "# predict with the test data\n",
    "y_pred = decisionTree.predict(X_test)\n",
    "# measure accuracy\n",
    "print('Accuracy on test data = ', metrics.accuracy_score(y_true = y_test, y_pred = y_pred))"
   ]
  },
  {
   "cell_type": "markdown",
   "metadata": {},
   "source": [
    "When training and testing using all of our data we get a 100% accuracy on the training data set which is expected since this would overfit the data. But, we still recieve a faily low accuracy on our test set.\n",
    "\n",
    "Let's work only with the numerical and categorical variables and omit values could contain information that is hard to make sense of without more context."
   ]
  },
  {
   "cell_type": "code",
   "execution_count": 119,
   "metadata": {},
   "outputs": [
    {
     "ename": "NameError",
     "evalue": "name 'X' is not defined",
     "output_type": "error",
     "traceback": [
      "\u001b[1;31m---------------------------------------------------------------------------\u001b[0m",
      "\u001b[1;31mNameError\u001b[0m                                 Traceback (most recent call last)",
      "\u001b[1;32m<ipython-input-119-7ef57f1773d6>\u001b[0m in \u001b[0;36m<module>\u001b[1;34m\u001b[0m\n\u001b[1;32m----> 1\u001b[1;33m \u001b[0mA\u001b[0m \u001b[1;33m=\u001b[0m \u001b[0mX\u001b[0m\u001b[1;33m[\u001b[0m\u001b[1;33m[\u001b[0m\u001b[1;34m'cc_age'\u001b[0m\u001b[1;33m,\u001b[0m \u001b[1;34m'credit_history'\u001b[0m\u001b[1;33m,\u001b[0m \u001b[1;34m'credit_usage'\u001b[0m\u001b[1;33m,\u001b[0m \u001b[1;34m'current_balance'\u001b[0m\u001b[1;33m,\u001b[0m \u001b[1;34m'existing_credits'\u001b[0m\u001b[1;33m,\u001b[0m \u001b[1;34m'location'\u001b[0m\u001b[1;33m,\u001b[0m \u001b[1;34m'num_dependents'\u001b[0m\u001b[1;33m]\u001b[0m\u001b[1;33m]\u001b[0m\u001b[1;33m\u001b[0m\u001b[1;33m\u001b[0m\u001b[0m\n\u001b[0m\u001b[0;32m      2\u001b[0m \u001b[0mdecisionTree\u001b[0m \u001b[1;33m=\u001b[0m \u001b[0mtree\u001b[0m\u001b[1;33m.\u001b[0m\u001b[0mDecisionTreeClassifier\u001b[0m\u001b[1;33m(\u001b[0m\u001b[1;33m)\u001b[0m\u001b[1;33m\u001b[0m\u001b[1;33m\u001b[0m\u001b[0m\n\u001b[0;32m      3\u001b[0m \u001b[1;33m\u001b[0m\u001b[0m\n\u001b[0;32m      4\u001b[0m \u001b[0mATrain\u001b[0m\u001b[1;33m,\u001b[0m \u001b[0mATest\u001b[0m\u001b[1;33m,\u001b[0m \u001b[0myTrain\u001b[0m\u001b[1;33m,\u001b[0m \u001b[0myTest\u001b[0m \u001b[1;33m=\u001b[0m \u001b[0mtrain_test_split\u001b[0m\u001b[1;33m(\u001b[0m\u001b[0mA\u001b[0m\u001b[1;33m,\u001b[0m\u001b[0my\u001b[0m\u001b[1;33m)\u001b[0m\u001b[1;33m\u001b[0m\u001b[1;33m\u001b[0m\u001b[0m\n\u001b[0;32m      5\u001b[0m \u001b[1;31m# fit the tree with the traing data\u001b[0m\u001b[1;33m\u001b[0m\u001b[1;33m\u001b[0m\u001b[1;33m\u001b[0m\u001b[0m\n",
      "\u001b[1;31mNameError\u001b[0m: name 'X' is not defined"
     ]
    }
   ],
   "source": [
    "A = X[['cc_age', 'credit_history', 'credit_usage', 'current_balance', 'existing_credits', 'location', 'num_dependents']]\n",
    "decisionTree = tree.DecisionTreeClassifier()\n",
    "\n",
    "ATrain, ATest, yTrain, yTest = train_test_split(A,y)\n",
    "# fit the tree with the traing data\n",
    "decisionTree = decisionTree.fit(ATrain, yTrain)\n",
    "\n",
    "# predict with the training data\n",
    "y_pred_train = decisionTree.predict(ATrain)\n",
    "# measure accuracy\n",
    "print('Accuracy on training data = ', metrics.accuracy_score(y_true = yTrain, y_pred = y_pred_train))\n",
    "\n",
    "# predict with the test data\n",
    "y_pred = decisionTree.predict(ATest)\n",
    "# measure accuracy\n",
    "print('Accuracy on test data = ', metrics.accuracy_score(y_true = yTest, y_pred = y_pred))"
   ]
  },
  {
   "cell_type": "markdown",
   "metadata": {},
   "source": [
    "What we can take away from this Decision Tree is that if we focus our analysis on factors that are mainly concerned with the applicants credit, then we can get a fairly accurate prediction on whether an applicant would be approved for a loan or not at an accuracy of 70%."
   ]
  },
  {
   "cell_type": "markdown",
   "metadata": {},
   "source": [
    "### Random Forest"
   ]
  },
  {
   "cell_type": "code",
   "execution_count": 120,
   "metadata": {},
   "outputs": [
    {
     "ename": "NameError",
     "evalue": "name 'XTrain' is not defined",
     "output_type": "error",
     "traceback": [
      "\u001b[1;31m---------------------------------------------------------------------------\u001b[0m",
      "\u001b[1;31mNameError\u001b[0m                                 Traceback (most recent call last)",
      "\u001b[1;32m<ipython-input-120-b2b93d4388e3>\u001b[0m in \u001b[0;36m<module>\u001b[1;34m\u001b[0m\n\u001b[0;32m      1\u001b[0m \u001b[0mforest\u001b[0m \u001b[1;33m=\u001b[0m  \u001b[0mRandomForestClassifier\u001b[0m\u001b[1;33m(\u001b[0m\u001b[0mbootstrap\u001b[0m\u001b[1;33m=\u001b[0m\u001b[1;32mTrue\u001b[0m\u001b[1;33m,\u001b[0m \u001b[0mn_estimators\u001b[0m\u001b[1;33m=\u001b[0m\u001b[1;36m300\u001b[0m\u001b[1;33m,\u001b[0m \u001b[0mrandom_state\u001b[0m\u001b[1;33m=\u001b[0m\u001b[1;36m0\u001b[0m\u001b[1;33m)\u001b[0m\u001b[1;33m\u001b[0m\u001b[1;33m\u001b[0m\u001b[0m\n\u001b[0;32m      2\u001b[0m \u001b[1;33m\u001b[0m\u001b[0m\n\u001b[1;32m----> 3\u001b[1;33m \u001b[0mtrained_forest\u001b[0m \u001b[1;33m=\u001b[0m \u001b[0mforest\u001b[0m\u001b[1;33m.\u001b[0m\u001b[0mfit\u001b[0m\u001b[1;33m(\u001b[0m\u001b[0mXTrain\u001b[0m\u001b[1;33m,\u001b[0m \u001b[0myTrain\u001b[0m\u001b[1;33m)\u001b[0m\u001b[1;33m\u001b[0m\u001b[1;33m\u001b[0m\u001b[0m\n\u001b[0m\u001b[0;32m      4\u001b[0m \u001b[1;33m\u001b[0m\u001b[0m\n\u001b[0;32m      5\u001b[0m \u001b[0my_pred_train\u001b[0m \u001b[1;33m=\u001b[0m \u001b[0mtrained_forest\u001b[0m\u001b[1;33m.\u001b[0m\u001b[0mpredict\u001b[0m\u001b[1;33m(\u001b[0m\u001b[0mXTrain\u001b[0m\u001b[1;33m)\u001b[0m\u001b[1;33m\u001b[0m\u001b[1;33m\u001b[0m\u001b[0m\n",
      "\u001b[1;31mNameError\u001b[0m: name 'XTrain' is not defined"
     ]
    }
   ],
   "source": [
    "forest =  RandomForestClassifier(bootstrap=True, n_estimators=300, random_state=0)\n",
    "\n",
    "trained_forest = forest.fit(XTrain, yTrain)\n",
    "\n",
    "y_pred_train = trained_forest.predict(XTrain)\n",
    "print('Accuracy on training data= ', metrics.accuracy_score(y_true = yTrain, y_pred = y_pred_train))\n",
    "\n",
    "y_pred = trained_forest.predict(XTest)\n",
    "print('Accuracy on test data= ', metrics.accuracy_score(y_true = yTest, y_pred = y_pred))"
   ]
  }
 ],
 "metadata": {
  "kernelspec": {
   "display_name": "Python 3",
   "language": "python",
   "name": "python3"
  },
  "language_info": {
   "codemirror_mode": {
    "name": "ipython",
    "version": 3
   },
   "file_extension": ".py",
   "mimetype": "text/x-python",
   "name": "python",
   "nbconvert_exporter": "python",
   "pygments_lexer": "ipython3",
   "version": "3.7.1"
  }
 },
 "nbformat": 4,
 "nbformat_minor": 2
}
